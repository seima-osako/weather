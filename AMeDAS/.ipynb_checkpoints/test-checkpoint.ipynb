{
 "cells": [
  {
   "cell_type": "code",
   "execution_count": 48,
   "metadata": {},
   "outputs": [],
   "source": [
    "# -*- coding: utf-8 -*-\n",
    "import re\n",
    "import time\n",
    "import numpy as np\n",
    "import pandas as pd\n",
    "import urllib.request\n",
    "from bs4 import BeautifulSoup\n",
    "from datetime import timedelta\n",
    "from datetime import datetime as dt\n",
    "\n",
    "amedas_url_list = pd.read_csv('amedas_url_list.csv',encoding='SJIS')\n",
    "df = amedas_url_list[amedas_url_list['station']=='稚内']\n",
    "amedas_url = df.iat[0,2]\n",
    "\n",
    "pattern=r'([+-]?[0-9]+\\.?[0-9]*)'\n",
    "id_list=re.findall(pattern, amedas_url)"
   ]
  },
  {
   "cell_type": "code",
   "execution_count": 96,
   "metadata": {},
   "outputs": [],
   "source": [
    "from dateutil.relativedelta import relativedelta\n",
    "strdt = dt.strptime('201901', '%Y%m')\n",
    "enddt = dt.strptime('201902', '%Y%m')\n",
    "months_num = (enddt.year - strdt.year)*12 + enddt.month - strdt.month + 1\n",
    "\n",
    "monthlist = map(lambda x, y=strdt: y + relativedelta(months=x), range(months_num))"
   ]
  },
  {
   "cell_type": "code",
   "execution_count": 97,
   "metadata": {},
   "outputs": [
    {
     "name": "stdout",
     "output_type": "stream",
     "text": [
      "20190101\n",
      "20190201\n"
     ]
    }
   ],
   "source": [
    "for dt in monthlist:\n",
    "    d = dt.strftime(\"%Y%m%d\")\n",
    "    print(d)"
   ]
  },
  {
   "cell_type": "code",
   "execution_count": 50,
   "metadata": {},
   "outputs": [
    {
     "name": "stdout",
     "output_type": "stream",
     "text": [
      "稚内_2019-01-01\n",
      "稚内_2019-01-02\n",
      "稚内_2019-01-03\n",
      "稚内_2019-01-04\n",
      "稚内_2019-01-05\n",
      "稚内_2019-01-06\n",
      "稚内_2019-01-07\n",
      "稚内_2019-01-08\n",
      "稚内_2019-01-09\n",
      "稚内_2019-01-10\n"
     ]
    }
   ],
   "source": [
    "data = pd.DataFrame(columns=['日付','時分','現地気圧','海面気圧','降水量','気温','相対湿度','平均風速','平均風向','最大瞬間風速','最大瞬間風向','日照時間'])\n",
    "for dt in datelist:\n",
    "    d = dt.strftime(\"%Y%m%d\")\n",
    "    yyyy = d[0:4]\n",
    "    mm = d[4:6]\n",
    "    dd = d[6:8]\n",
    "    url = f'https://www.data.jma.go.jp/obd/stats/etrn/view/hourly_s1.php?prec_no={id_list[0]}&block_no={id_list[1]}&year={yyyy}&month={mm}&day={dd}&view=p1'\n",
    "    time.sleep(1)\n",
    "    html = urllib.request.urlopen(url)\n",
    "    soup = BeautifulSoup(html, 'html.parser')\n",
    "    element = soup.find_all('tr', attrs={'class':'mtx', 'style':'text-align:right;'})\n",
    "    out = [list(map(lambda x: x.text, ele)) for ele in element]\n",
    "\n",
    "    date = np.full([144,1], f'{yyyy}{mm}{dd}')\n",
    "    date = pd.DataFrame(date,columns=['日付'])\n",
    "    df = pd.DataFrame(data=out, columns=['時分','現地気圧','海面気圧','降水量','気温','相対湿度','平均風速','平均風向','最大瞬間風速','最大瞬間風向','日照時間'])\n",
    "    df = pd.concat([date, df],axis=1)\n",
    "    data = pd.concat([data, df])\n",
    "    print(f'稚内_{yyyy}-{mm}-{dd}')\n",
    "data.to_csv(f'稚内_{startdate}-{enddate}.csv', index=None, encoding='SJIS')"
   ]
  },
  {
   "cell_type": "code",
   "execution_count": 64,
   "metadata": {},
   "outputs": [],
   "source": [
    "yyyy = '2019'\n",
    "mm = '01'\n",
    "dd = '01'\n",
    "url = f'https://www.data.jma.go.jp/obd/stats/etrn/view/daily_s1.php?prec_no=44&block_no=47662&year={yyyy}&month={mm}&day={dd}&view=p1'\n",
    "time.sleep(1)\n",
    "html = urllib.request.urlopen(url)\n",
    "soup = BeautifulSoup(html, 'html.parser')\n",
    "element = soup.find_all('tr', attrs={'class':'mtx', 'style':'text-align:right;'})\n",
    "out = [list(map(lambda x: x.text, ele)) for ele in element]"
   ]
  },
  {
   "cell_type": "code",
   "execution_count": null,
   "metadata": {},
   "outputs": [],
   "source": []
  }
 ],
 "metadata": {
  "kernelspec": {
   "display_name": "Python 3",
   "language": "python",
   "name": "python3"
  },
  "language_info": {
   "codemirror_mode": {
    "name": "ipython",
    "version": 3
   },
   "file_extension": ".py",
   "mimetype": "text/x-python",
   "name": "python",
   "nbconvert_exporter": "python",
   "pygments_lexer": "ipython3",
   "version": "3.7.5"
  },
  "toc": {
   "base_numbering": 1,
   "nav_menu": {},
   "number_sections": true,
   "sideBar": true,
   "skip_h1_title": false,
   "title_cell": "Table of Contents",
   "title_sidebar": "Contents",
   "toc_cell": false,
   "toc_position": {},
   "toc_section_display": true,
   "toc_window_display": false
  },
  "varInspector": {
   "cols": {
    "lenName": 16,
    "lenType": 16,
    "lenVar": 40
   },
   "kernels_config": {
    "python": {
     "delete_cmd_postfix": "",
     "delete_cmd_prefix": "del ",
     "library": "var_list.py",
     "varRefreshCmd": "print(var_dic_list())"
    },
    "r": {
     "delete_cmd_postfix": ") ",
     "delete_cmd_prefix": "rm(",
     "library": "var_list.r",
     "varRefreshCmd": "cat(var_dic_list()) "
    }
   },
   "types_to_exclude": [
    "module",
    "function",
    "builtin_function_or_method",
    "instance",
    "_Feature"
   ],
   "window_display": false
  }
 },
 "nbformat": 4,
 "nbformat_minor": 2
}
